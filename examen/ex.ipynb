{
 "cells": [
  {
   "cell_type": "code",
   "execution_count": null,
   "metadata": {
    "vscode": {
     "languageId": "plaintext"
    }
   },
   "outputs": [],
   "source": [
    "import pandas as pd\n",
    "import numpy as np\n",
    "import pymc as pm\n",
    "import arviz as az\n",
    "\n",
    "iris_path = \"iris.csv\"\n",
    "iris_data = pd.read_csv(iris_path)\n",
    "\n",
    "iris_features = iris_data.drop(columns=[\"species\"]).values #elimin targetul\n",
    "\n",
    "n_clusters = 3\n",
    "n_features = iris_features.shape[1]\n",
    "\n",
    "with pm.Model() as gmm_model:\n",
    "    weights = pm.Dirichlet(\"weights\", a=np.ones(n_clusters))\n",
    "    means = pm.Normal(\"means\", mu=0, sigma=10, shape=(n_clusters, n_features))\n",
    "    sds = pm.Exponential(\"sds\", lam=1, shape=(n_clusters, n_features))\n",
    "    cluster_assignments = pm.Categorical(\n",
    "        \"cluster_assignments\", p=weights, shape=iris_features.shape[0]\n",
    "    )\n",
    "    likelihood = pm.Normal(\n",
    "        \"observations\",\n",
    "        mu=means[cluster_assignments],\n",
    "        sigma=sds[cluster_assignments],\n",
    "        observed=iris_features,\n",
    "    )\n",
    "    trace = pm.sample(150, tune=500, random_seed=42, return_inferencedata=True)\n",
    "\n",
    "cluster_assignments = trace.posterior[\"cluster_assignments\"].mean(axis=0).argmax(axis=-1).values\n",
    "\n",
    "iris_data[\"inferred_cluster\"] = cluster_assignments\n",
    "\n",
    "print(iris_data.head())\n",
    "\n",
    "az.plot_trace(trace)\n",
    "az.summary(trace, var_names=[\"weights\", \"means\", \"sds\"])\n"
   ]
  },
  {
   "cell_type": "code",
   "execution_count": null,
   "metadata": {
    "vscode": {
     "languageId": "plaintext"
    }
   },
   "outputs": [],
   "source": [
    "import pandas as pd\n",
    "import pymc as pm\n",
    "import numpy as np\n",
    "\n",
    "data = pd.read_csv('date_alegeri_turul2.csv')\n",
    "\n",
    "X = data[['Varsta', 'Sex', 'Educatie', 'Venit']].values\n",
    "y = data['Vot'].values\n",
    "\n",
    "X_normalized = (X - X.mean(axis=0)) / X.std(axis=0)\n",
    "\n",
    "with pm.Model() as logistic_model:\n",
    "    beta = pm.Normal(\"beta\", mu=0, sigma=10, shape=X_normalized.shape[1])\n",
    "    intercept = pm.Normal(\"intercept\", mu=0, sigma=10)\n",
    "    p = pm.math.sigmoid(intercept + pm.math.dot(X_normalized, beta))\n",
    "    y_obs = pm.Bernoulli(\"y_obs\", p=p, observed=y)\n",
    "    trace = pm.sample(1000, tune=1000, return_inferencedata=True, random_seed=42)\n",
    "\n",
    "import arviz as az\n",
    "\n",
    "summary = az.summary(trace, var_names=[\"beta\", \"intercept\"])\n",
    "print(summary)\n",
    "\n",
    "az.plot_forest(trace, var_names=[\"beta\", \"intercept\"])\n"
   ]
  }
 ],
 "metadata": {
  "language_info": {
   "name": "python"
  }
 },
 "nbformat": 4,
 "nbformat_minor": 2
}
